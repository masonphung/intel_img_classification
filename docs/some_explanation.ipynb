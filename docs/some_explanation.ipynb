{
 "cells": [
  {
   "cell_type": "markdown",
   "metadata": {},
   "source": [
    "# Explanation of my ideas on some complex parts/codes"
   ]
  },
  {
   "cell_type": "markdown",
   "metadata": {},
   "source": [
    "**1. To get the true and predicted labels - `src.utils.extract_label_img`**\n",
    "- As our test set was fetched by using `image_dataset_from_directory`, we need to extract the true and predicted labels by utilizing the test set and the CNN model.\n",
    "- Extract `images` and `labels` batches of the test_set:\n",
    "    - Get true labels by taking all the labels of `labels`, convert them from tf tensors to np arrays.\n",
    "    - For predicted labels: Use `argmax` to convert the predicted probabilties from the model into class labels.\n",
    "    - Use `extend()` to add each element of the extracted numpy array of true/predicted labels to the list. We don't use `append()` here as it add the whole array, not each array's item.\n",
    "    - Extract the test image as np array so we can later plot the images for error analysis"
   ]
  },
  {
   "cell_type": "code",
   "execution_count": null,
   "metadata": {},
   "outputs": [],
   "source": [
    "y_true = []\n",
    "y_pred = []\n",
    "test_images = []\n",
    "\n",
    "for images, labels in test_set:\n",
    "    # Append true labels for each batch\n",
    "    y_true.extend(labels.numpy())\n",
    "    # Compute predictions for each batch\n",
    "    preds = model.predict(images)\n",
    "    # Append predicted labels for each batch\n",
    "    y_pred.extend(np.argmax(preds, axis=-1))\n",
    "    # Append the images for each batch\n",
    "    test_images.extend(images.numpy())"
   ]
  },
  {
   "cell_type": "markdown",
   "metadata": {},
   "source": [
    "**2. To generate confusion matrix heatmap - `src.utils.plot_conf_matrix`**\n",
    "- Use sklearn `confusion_matrix` function to get the confusion matrix by comparing `y_true` and `y_pred`.\n",
    "- Use seaborn and matplotlib library to plot the matrix heatmap"
   ]
  },
  {
   "cell_type": "code",
   "execution_count": null,
   "metadata": {},
   "outputs": [],
   "source": [
    "# Calculate the confusion matrix\n",
    "pred_matrix = confusion_matrix(y_true, y_pred)\n",
    "\n",
    "# Plot the confusion matrix\n",
    "sns.heatmap(\n",
    "    pred_matrix,\n",
    "    annot = True,\n",
    "    fmt = 'd',  # Format annotations as integers\n",
    "    center = 0,\n",
    "    square = True,\n",
    "    cmap = \"RdBu_r\",\n",
    "    xticklabels = class_labels,\n",
    "    yticklabels = class_labels,\n",
    ")\n",
    "\n",
    "plt.title('Confusion Matrix')\n",
    "plt.xlabel('Predicted labels')\n",
    "plt.tick_params(axis = 'x', labelsize = 8)\n",
    "plt.ylabel('True labels')\n",
    "plt.tick_params(axis = 'y', labelsize = 8) \n",
    "\n",
    "plt.show()"
   ]
  }
 ],
 "metadata": {
  "kernelspec": {
   "display_name": "data_science",
   "language": "python",
   "name": "python3"
  },
  "language_info": {
   "codemirror_mode": {
    "name": "ipython",
    "version": 3
   },
   "file_extension": ".py",
   "mimetype": "text/x-python",
   "name": "python",
   "nbconvert_exporter": "python",
   "pygments_lexer": "ipython3",
   "version": "3.11.5"
  }
 },
 "nbformat": 4,
 "nbformat_minor": 2
}
